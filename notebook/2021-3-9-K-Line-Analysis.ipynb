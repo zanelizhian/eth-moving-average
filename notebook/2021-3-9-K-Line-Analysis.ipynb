{
 "cells": [
  {
   "cell_type": "code",
   "execution_count": 1,
   "metadata": {
    "execution": {
     "iopub.execute_input": "2021-03-10T07:56:35.961473Z",
     "iopub.status.busy": "2021-03-10T07:56:35.961222Z",
     "iopub.status.idle": "2021-03-10T07:56:36.770535Z",
     "shell.execute_reply": "2021-03-10T07:56:36.769907Z",
     "shell.execute_reply.started": "2021-03-10T07:56:35.961405Z"
    }
   },
   "outputs": [],
   "source": [
    "import sys\n",
    "import os\n",
    "import math\n",
    "import warnings\n",
    "import pandas as pd\n",
    "import numpy as np\n",
    "import matplotlib.pyplot as plt\n",
    "import matplotlib.pylab as pylab\n",
    "import seaborn as sns\n",
    "from math import sqrt\n",
    "from sklearn.metrics import confusion_matrix\n",
    "\n",
    "if not sys.warnoptions:\n",
    "    warnings.simplefilter(\"ignore\")\n",
    "\n",
    "module_path = os.path.abspath(os.path.join('..'))\n",
    "if module_path not in sys.path:\n",
    "    sys.path.append(module_path)\n",
    "    \n",
    "sns.set_style('white')\n",
    "\n",
    "import plotly.graph_objects as go\n",
    "from datetime import datetime"
   ]
  },
  {
   "cell_type": "code",
   "execution_count": 2,
   "metadata": {
    "execution": {
     "iopub.execute_input": "2021-03-10T07:56:36.773067Z",
     "iopub.status.busy": "2021-03-10T07:56:36.772819Z",
     "iopub.status.idle": "2021-03-10T07:56:38.721291Z",
     "shell.execute_reply": "2021-03-10T07:56:38.720386Z",
     "shell.execute_reply.started": "2021-03-10T07:56:36.773034Z"
    }
   },
   "outputs": [
    {
     "data": {
      "text/html": [
       "<div>\n",
       "<style scoped>\n",
       "    .dataframe tbody tr th:only-of-type {\n",
       "        vertical-align: middle;\n",
       "    }\n",
       "\n",
       "    .dataframe tbody tr th {\n",
       "        vertical-align: top;\n",
       "    }\n",
       "\n",
       "    .dataframe thead th {\n",
       "        text-align: right;\n",
       "    }\n",
       "</style>\n",
       "<table border=\"1\" class=\"dataframe\">\n",
       "  <thead>\n",
       "    <tr style=\"text-align: right;\">\n",
       "      <th></th>\n",
       "      <th>type</th>\n",
       "      <th>code</th>\n",
       "      <th>time</th>\n",
       "      <th>open</th>\n",
       "      <th>high</th>\n",
       "      <th>low</th>\n",
       "      <th>close</th>\n",
       "      <th>volume</th>\n",
       "      <th>turnover</th>\n",
       "      <th>open_interest</th>\n",
       "      <th>start</th>\n",
       "      <th>end</th>\n",
       "      <th>date</th>\n",
       "    </tr>\n",
       "  </thead>\n",
       "  <tbody>\n",
       "    <tr>\n",
       "      <th>0</th>\n",
       "      <td>SF</td>\n",
       "      <td>IF1801</td>\n",
       "      <td>2018-01-02 09:31:00</td>\n",
       "      <td>4051.6</td>\n",
       "      <td>4060.4</td>\n",
       "      <td>4051.6</td>\n",
       "      <td>4060.0</td>\n",
       "      <td>398.0</td>\n",
       "      <td>4.844222e+08</td>\n",
       "      <td>24365</td>\n",
       "      <td>2018-01-02 09:30:00</td>\n",
       "      <td>2018-01-02 09:31:00</td>\n",
       "      <td>20180102</td>\n",
       "    </tr>\n",
       "    <tr>\n",
       "      <th>1</th>\n",
       "      <td>SF</td>\n",
       "      <td>IF1801</td>\n",
       "      <td>2018-01-02 09:32:00</td>\n",
       "      <td>4060.0</td>\n",
       "      <td>4062.2</td>\n",
       "      <td>4058.6</td>\n",
       "      <td>4060.0</td>\n",
       "      <td>212.0</td>\n",
       "      <td>2.582576e+08</td>\n",
       "      <td>24241</td>\n",
       "      <td>2018-01-02 09:31:00</td>\n",
       "      <td>2018-01-02 09:32:00</td>\n",
       "      <td>20180102</td>\n",
       "    </tr>\n",
       "    <tr>\n",
       "      <th>2</th>\n",
       "      <td>SF</td>\n",
       "      <td>IF1801</td>\n",
       "      <td>2018-01-02 09:33:00</td>\n",
       "      <td>4059.8</td>\n",
       "      <td>4065.8</td>\n",
       "      <td>4059.8</td>\n",
       "      <td>4062.8</td>\n",
       "      <td>179.0</td>\n",
       "      <td>2.181614e+08</td>\n",
       "      <td>24118</td>\n",
       "      <td>2018-01-02 09:32:00</td>\n",
       "      <td>2018-01-02 09:33:00</td>\n",
       "      <td>20180102</td>\n",
       "    </tr>\n",
       "    <tr>\n",
       "      <th>3</th>\n",
       "      <td>SF</td>\n",
       "      <td>IF1801</td>\n",
       "      <td>2018-01-02 09:34:00</td>\n",
       "      <td>4062.6</td>\n",
       "      <td>4063.0</td>\n",
       "      <td>4060.0</td>\n",
       "      <td>4062.6</td>\n",
       "      <td>117.0</td>\n",
       "      <td>1.425521e+08</td>\n",
       "      <td>24049</td>\n",
       "      <td>2018-01-02 09:33:00</td>\n",
       "      <td>2018-01-02 09:34:00</td>\n",
       "      <td>20180102</td>\n",
       "    </tr>\n",
       "    <tr>\n",
       "      <th>4</th>\n",
       "      <td>SF</td>\n",
       "      <td>IF1801</td>\n",
       "      <td>2018-01-02 09:35:00</td>\n",
       "      <td>4062.8</td>\n",
       "      <td>4070.8</td>\n",
       "      <td>4062.4</td>\n",
       "      <td>4070.0</td>\n",
       "      <td>251.0</td>\n",
       "      <td>3.062792e+08</td>\n",
       "      <td>23926</td>\n",
       "      <td>2018-01-02 09:34:00</td>\n",
       "      <td>2018-01-02 09:35:00</td>\n",
       "      <td>20180102</td>\n",
       "    </tr>\n",
       "    <tr>\n",
       "      <th>...</th>\n",
       "      <td>...</td>\n",
       "      <td>...</td>\n",
       "      <td>...</td>\n",
       "      <td>...</td>\n",
       "      <td>...</td>\n",
       "      <td>...</td>\n",
       "      <td>...</td>\n",
       "      <td>...</td>\n",
       "      <td>...</td>\n",
       "      <td>...</td>\n",
       "      <td>...</td>\n",
       "      <td>...</td>\n",
       "      <td>...</td>\n",
       "    </tr>\n",
       "    <tr>\n",
       "      <th>175195</th>\n",
       "      <td>SF</td>\n",
       "      <td>IF2101</td>\n",
       "      <td>2020-12-31 14:56:00</td>\n",
       "      <td>5217.8</td>\n",
       "      <td>5218.4</td>\n",
       "      <td>5216.4</td>\n",
       "      <td>5217.8</td>\n",
       "      <td>468.0</td>\n",
       "      <td>7.325071e+08</td>\n",
       "      <td>89496</td>\n",
       "      <td>2020-12-31 14:55:00</td>\n",
       "      <td>2020-12-31 14:56:00</td>\n",
       "      <td>20201231</td>\n",
       "    </tr>\n",
       "    <tr>\n",
       "      <th>175196</th>\n",
       "      <td>SF</td>\n",
       "      <td>IF2101</td>\n",
       "      <td>2020-12-31 14:57:00</td>\n",
       "      <td>5217.8</td>\n",
       "      <td>5219.8</td>\n",
       "      <td>5216.6</td>\n",
       "      <td>5219.0</td>\n",
       "      <td>502.0</td>\n",
       "      <td>7.858570e+08</td>\n",
       "      <td>89727</td>\n",
       "      <td>2020-12-31 14:56:00</td>\n",
       "      <td>2020-12-31 14:57:00</td>\n",
       "      <td>20201231</td>\n",
       "    </tr>\n",
       "    <tr>\n",
       "      <th>175197</th>\n",
       "      <td>SF</td>\n",
       "      <td>IF2101</td>\n",
       "      <td>2020-12-31 14:58:00</td>\n",
       "      <td>5219.0</td>\n",
       "      <td>5219.0</td>\n",
       "      <td>5215.0</td>\n",
       "      <td>5218.2</td>\n",
       "      <td>704.0</td>\n",
       "      <td>1.101811e+09</td>\n",
       "      <td>90073</td>\n",
       "      <td>2020-12-31 14:57:00</td>\n",
       "      <td>2020-12-31 14:58:00</td>\n",
       "      <td>20201231</td>\n",
       "    </tr>\n",
       "    <tr>\n",
       "      <th>175198</th>\n",
       "      <td>SF</td>\n",
       "      <td>IF2101</td>\n",
       "      <td>2020-12-31 14:59:00</td>\n",
       "      <td>5218.2</td>\n",
       "      <td>5221.6</td>\n",
       "      <td>5216.8</td>\n",
       "      <td>5220.4</td>\n",
       "      <td>610.0</td>\n",
       "      <td>9.551740e+08</td>\n",
       "      <td>90469</td>\n",
       "      <td>2020-12-31 14:58:00</td>\n",
       "      <td>2020-12-31 14:59:00</td>\n",
       "      <td>20201231</td>\n",
       "    </tr>\n",
       "    <tr>\n",
       "      <th>175199</th>\n",
       "      <td>SF</td>\n",
       "      <td>IF2101</td>\n",
       "      <td>2020-12-31 15:00:00</td>\n",
       "      <td>5220.2</td>\n",
       "      <td>5227.4</td>\n",
       "      <td>5220.0</td>\n",
       "      <td>5227.0</td>\n",
       "      <td>803.0</td>\n",
       "      <td>1.258490e+09</td>\n",
       "      <td>90826</td>\n",
       "      <td>2020-12-31 14:59:00</td>\n",
       "      <td>2020-12-31 15:00:00</td>\n",
       "      <td>20201231</td>\n",
       "    </tr>\n",
       "  </tbody>\n",
       "</table>\n",
       "<p>175200 rows × 13 columns</p>\n",
       "</div>"
      ],
      "text/plain": [
       "       type    code                time    open    high     low   close  \\\n",
       "0        SF  IF1801 2018-01-02 09:31:00  4051.6  4060.4  4051.6  4060.0   \n",
       "1        SF  IF1801 2018-01-02 09:32:00  4060.0  4062.2  4058.6  4060.0   \n",
       "2        SF  IF1801 2018-01-02 09:33:00  4059.8  4065.8  4059.8  4062.8   \n",
       "3        SF  IF1801 2018-01-02 09:34:00  4062.6  4063.0  4060.0  4062.6   \n",
       "4        SF  IF1801 2018-01-02 09:35:00  4062.8  4070.8  4062.4  4070.0   \n",
       "...     ...     ...                 ...     ...     ...     ...     ...   \n",
       "175195   SF  IF2101 2020-12-31 14:56:00  5217.8  5218.4  5216.4  5217.8   \n",
       "175196   SF  IF2101 2020-12-31 14:57:00  5217.8  5219.8  5216.6  5219.0   \n",
       "175197   SF  IF2101 2020-12-31 14:58:00  5219.0  5219.0  5215.0  5218.2   \n",
       "175198   SF  IF2101 2020-12-31 14:59:00  5218.2  5221.6  5216.8  5220.4   \n",
       "175199   SF  IF2101 2020-12-31 15:00:00  5220.2  5227.4  5220.0  5227.0   \n",
       "\n",
       "        volume      turnover  open_interest               start  \\\n",
       "0        398.0  4.844222e+08          24365 2018-01-02 09:30:00   \n",
       "1        212.0  2.582576e+08          24241 2018-01-02 09:31:00   \n",
       "2        179.0  2.181614e+08          24118 2018-01-02 09:32:00   \n",
       "3        117.0  1.425521e+08          24049 2018-01-02 09:33:00   \n",
       "4        251.0  3.062792e+08          23926 2018-01-02 09:34:00   \n",
       "...        ...           ...            ...                 ...   \n",
       "175195   468.0  7.325071e+08          89496 2020-12-31 14:55:00   \n",
       "175196   502.0  7.858570e+08          89727 2020-12-31 14:56:00   \n",
       "175197   704.0  1.101811e+09          90073 2020-12-31 14:57:00   \n",
       "175198   610.0  9.551740e+08          90469 2020-12-31 14:58:00   \n",
       "175199   803.0  1.258490e+09          90826 2020-12-31 14:59:00   \n",
       "\n",
       "                       end      date  \n",
       "0      2018-01-02 09:31:00  20180102  \n",
       "1      2018-01-02 09:32:00  20180102  \n",
       "2      2018-01-02 09:33:00  20180102  \n",
       "3      2018-01-02 09:34:00  20180102  \n",
       "4      2018-01-02 09:35:00  20180102  \n",
       "...                    ...       ...  \n",
       "175195 2020-12-31 14:56:00  20201231  \n",
       "175196 2020-12-31 14:57:00  20201231  \n",
       "175197 2020-12-31 14:58:00  20201231  \n",
       "175198 2020-12-31 14:59:00  20201231  \n",
       "175199 2020-12-31 15:00:00  20201231  \n",
       "\n",
       "[175200 rows x 13 columns]"
      ]
     },
     "execution_count": 2,
     "metadata": {},
     "output_type": "execute_result"
    }
   ],
   "source": [
    "# read data\n",
    "year = 2018\n",
    "ticker = 'IFM'\n",
    "\n",
    "col_names=['TIME', 'X', 'Y', 'Z'] \n",
    "\n",
    "df_2018 = pd.read_csv(os.path.join(f'../data/index/{year}/{ticker}.csv'), index_col=0, encoding='gbk')\n",
    "df_2018.columns = ['code', 'time', 'open', 'high', 'low', 'close', 'volume', 'turnover', 'open_interest']\n",
    "\n",
    "df_2018.rename_axis(\"type\", axis='index', inplace=True)\n",
    "\n",
    "year = 2019\n",
    "\n",
    "df_2019 = pd.read_csv(os.path.join(f'../data/index/{year}/{ticker}.csv'), index_col=0, encoding='gbk')\n",
    "df_2019.columns = ['code', 'time', 'open', 'high', 'low', 'close', 'volume', 'turnover', 'open_interest']\n",
    "\n",
    "df_2019.rename_axis(\"type\", axis='index', inplace=True)\n",
    "\n",
    "year = 2020\n",
    "\n",
    "df_2020 = pd.read_csv(os.path.join(f'../data/index/{year}/{ticker}.csv'), index_col=0, encoding='gbk')\n",
    "df_2020.columns = ['code', 'time', 'open', 'high', 'low', 'close', 'volume', 'turnover', 'open_interest']\n",
    "\n",
    "df_2020.rename_axis(\"type\", axis='index', inplace=True)\n",
    "\n",
    "\n",
    "df = pd.concat([df_2018, df_2019, df_2020])\n",
    "df['time'] = pd.to_datetime(df['time'])\n",
    "\n",
    "df.reset_index(inplace=True)\n",
    "df['start'] = df['time'] - pd.Timedelta(minutes=1)\n",
    "df['end'] = df['time']\n",
    "\n",
    "df['date'] = df['time'].map(lambda x: x.year)*10000 + df['time'].map(lambda x: x.month)*100 + df['time'].map(lambda x: x.day)\n",
    "# df = df.iloc[144000:146400, :] # Change this line to change the selection of data\n",
    "\n",
    "df"
   ]
  },
  {
   "cell_type": "code",
   "execution_count": 3,
   "metadata": {
    "execution": {
     "iopub.execute_input": "2021-03-10T07:56:38.723894Z",
     "iopub.status.busy": "2021-03-10T07:56:38.723581Z",
     "iopub.status.idle": "2021-03-10T07:56:38.728851Z",
     "shell.execute_reply": "2021-03-10T07:56:38.728229Z",
     "shell.execute_reply.started": "2021-03-10T07:56:38.723873Z"
    }
   },
   "outputs": [
    {
     "ename": "SyntaxError",
     "evalue": "invalid syntax (_fractal.py, line 2)",
     "output_type": "error",
     "traceback": [
      "Traceback \u001b[0;36m(most recent call last)\u001b[0m:\n",
      "  File \u001b[1;32m\"/home/leelee/anaconda3/lib/python3.8/site-packages/IPython/core/interactiveshell.py\"\u001b[0m, line \u001b[1;32m3418\u001b[0m, in \u001b[1;35mrun_code\u001b[0m\n    exec(code_obj, self.user_global_ns, self.user_ns)\n",
      "  File \u001b[1;32m\"<ipython-input-3-413ddbfeb6e9>\"\u001b[0m, line \u001b[1;32m1\u001b[0m, in \u001b[1;35m<module>\u001b[0m\n    from cta.kline import Kline\n",
      "\u001b[0;36m  File \u001b[0;32m\"/home/leelee/Documents/Crypto/ml_cta/notebook/cta/kline.py\"\u001b[0;36m, line \u001b[0;32m8\u001b[0;36m, in \u001b[0;35m<module>\u001b[0;36m\u001b[0m\n\u001b[0;31m    from ._fractal import _fractal_filter, _convert_label\u001b[0m\n",
      "\u001b[0;36m  File \u001b[0;32m\"/home/leelee/Documents/Crypto/ml_cta/notebook/cta/_fractal.py\"\u001b[0;36m, line \u001b[0;32m2\u001b[0m\n\u001b[0;31m    cimport numpy as np\u001b[0m\n\u001b[0m            ^\u001b[0m\n\u001b[0;31mSyntaxError\u001b[0m\u001b[0;31m:\u001b[0m invalid syntax\n"
     ]
    }
   ],
   "source": [
    "from cta.kline import Kline\n",
    "from cta.kline_general import *"
   ]
  },
  {
   "cell_type": "code",
   "execution_count": null,
   "metadata": {
    "execution": {
     "iopub.execute_input": "2021-03-10T07:56:38.730135Z",
     "iopub.status.busy": "2021-03-10T07:56:38.729926Z",
     "iopub.status.idle": "2021-03-10T07:56:38.781262Z",
     "shell.execute_reply": "2021-03-10T07:56:38.780647Z",
     "shell.execute_reply.started": "2021-03-10T07:56:38.730117Z"
    }
   },
   "outputs": [],
   "source": [
    "timespan = df.shape[0]\n",
    "frequency = 30\n",
    "\n",
    "df_kline = Kline_General(df, 1)"
   ]
  },
  {
   "cell_type": "code",
   "execution_count": null,
   "metadata": {
    "execution": {
     "iopub.execute_input": "2021-03-10T07:56:38.782808Z",
     "iopub.status.busy": "2021-03-10T07:56:38.782630Z",
     "iopub.status.idle": "2021-03-10T07:57:13.224077Z",
     "shell.execute_reply": "2021-03-10T07:57:13.223463Z",
     "shell.execute_reply.started": "2021-03-10T07:56:38.782786Z"
    }
   },
   "outputs": [],
   "source": [
    "# plot 30 min k-line\n",
    "df_kline30 = df_kline.construct_backward_klines(ckfreq=frequency, numkrows=(timespan // frequency))\n",
    "# df_kline30.plot_k()\n",
    "temp = df_kline30.ma_trend_filter(ma=5).iloc[::-1]\n",
    "temp.iloc[0:20, ]"
   ]
  },
  {
   "cell_type": "code",
   "execution_count": null,
   "metadata": {
    "execution": {
     "iopub.execute_input": "2021-03-10T07:57:13.225517Z",
     "iopub.status.busy": "2021-03-10T07:57:13.225094Z",
     "iopub.status.idle": "2021-03-10T07:57:13.228910Z",
     "shell.execute_reply": "2021-03-10T07:57:13.228076Z",
     "shell.execute_reply.started": "2021-03-10T07:57:13.225488Z"
    }
   },
   "outputs": [],
   "source": [
    "frequency = 120\n",
    "# plot 120 min k-line\n",
    "# df_kline120 = df_kline.construct_backward_klines(ckfreq=frequency, numkrows=(timespan // frequency))\n",
    "# df_kline120.plot_k()"
   ]
  },
  {
   "cell_type": "markdown",
   "metadata": {},
   "source": [
    "计算高点和低点的 Hull Moving Average, 可以调整 hma_span"
   ]
  },
  {
   "cell_type": "code",
   "execution_count": null,
   "metadata": {
    "execution": {
     "iopub.execute_input": "2021-03-10T07:57:13.230540Z",
     "iopub.status.busy": "2021-03-10T07:57:13.230222Z",
     "iopub.status.idle": "2021-03-10T07:57:13.440469Z",
     "shell.execute_reply": "2021-03-10T07:57:13.439855Z",
     "shell.execute_reply.started": "2021-03-10T07:57:13.230500Z"
    },
    "scrolled": true
   },
   "outputs": [],
   "source": [
    "# reverse the dataframe since the k-line lib reversed it\n",
    "df_kline30r = df_kline30.iloc[::-1].copy()\n",
    "df_kline30r.reset_index(inplace=True)\n",
    "hma_span = 5 # period for HMA \n",
    "\n",
    "df_kline30r['window_t_ewm_low'] = df_kline30r['low'].ewm(span=hma_span).mean()\n",
    "df_kline30r['window_half_ewm_low'] = df_kline30r['low'].ewm(span=hma_span/2).mean()\n",
    "df_kline30r['diff_low']=df_kline30r['window_half_ewm_low'] * 2 - df_kline30r['window_t_ewm_low']\n",
    "df_kline30r['hma_low']=df_kline30r['diff_low'].ewm(span=int(math.sqrt(hma_span))).mean()\n",
    "\n",
    "df_kline30r['window_t_ewm_high'] = df_kline30r['high'].ewm(span=hma_span).mean()\n",
    "df_kline30r['window_half_ewm_high'] = df_kline30r['high'].ewm(span=hma_span/2).mean()\n",
    "df_kline30r['diff_high']=df_kline30r['window_half_ewm_high'] * 2 - df_kline30r['window_t_ewm_high']\n",
    "df_kline30r['hma_high']=df_kline30r['diff_high'].ewm(span=int(math.sqrt(hma_span))).mean()\n",
    "\n",
    "df_kline30r['window_t_ewm_close'] = df_kline30r['close'].ewm(span=hma_span).mean()\n",
    "df_kline30r['window_half_ewm_close'] = df_kline30r['close'].ewm(span=hma_span/2).mean()\n",
    "df_kline30r['diff_close']=df_kline30r['window_half_ewm_close'] * 2 - df_kline30r['window_t_ewm_close']\n",
    "df_kline30r['hma_close']=df_kline30r['diff_close'].ewm(span=int(math.sqrt(hma_span))).mean()\n",
    "\n",
    "intermediate_col = ['index', 'window_t_ewm_low', 'window_half_ewm_low', 'diff_low', \n",
    "                    'window_t_ewm_high', 'window_half_ewm_high', 'diff_high', \n",
    "                   'window_t_ewm_close', 'window_half_ewm_close', 'diff_close']\n",
    "\n",
    "df_kline30r.drop(columns=intermediate_col, inplace = True)\n",
    "\n",
    "df_kline30r[['hma_close', 'hma_high', 'hma_low']].plot(grid=False, figsize=(12,4))\n",
    "sns.despine()"
   ]
  },
  {
   "cell_type": "markdown",
   "metadata": {},
   "source": [
    "通过 HMA 的斜率计算趋势，只有当高线和低线趋势一致时才判断趋势存在"
   ]
  },
  {
   "cell_type": "code",
   "execution_count": null,
   "metadata": {
    "execution": {
     "iopub.execute_input": "2021-03-10T07:57:13.444302Z",
     "iopub.status.busy": "2021-03-10T07:57:13.444059Z",
     "iopub.status.idle": "2021-03-10T07:57:13.521427Z",
     "shell.execute_reply": "2021-03-10T07:57:13.520741Z",
     "shell.execute_reply.started": "2021-03-10T07:57:13.444280Z"
    }
   },
   "outputs": [],
   "source": [
    "df_kline30r[\"trend_low\"] = (df_kline30r[\"hma_low\"] > df_kline30r[\"hma_low\"].shift(1))\n",
    "df_kline30r[\"trend_high\"] = (df_kline30r[\"hma_high\"] > df_kline30r[\"hma_high\"].shift(1))\n",
    "\n",
    "df_kline30r[\"slope_low\"] = (df_kline30r[\"hma_low\"] - df_kline30r[\"hma_low\"].shift(1))\n",
    "df_kline30r[\"slope_high\"] = (df_kline30r[\"hma_high\"] - df_kline30r[\"hma_high\"].shift(1))\n",
    "df_kline30r[\"slope_close\"] = (df_kline30r[\"hma_close\"] - df_kline30r[\"hma_close\"].shift(1))\n",
    "\n",
    "df_kline30r['slope_low'] = df_kline30r['slope_low'].fillna(0)\n",
    "df_kline30r['slope_high'] = df_kline30r['slope_high'].fillna(0)\n",
    "df_kline30r[\"slope_close\"] = df_kline30r['slope_close'].fillna(0)\n",
    "\n",
    "df_kline30r.replace({'trend_low': {True: 1, False: -1}}, inplace=True)\n",
    "df_kline30r.replace({'trend_high': {True: 1, False: -1}}, inplace=True)\n",
    "\n",
    "df_kline30r[\"trend_ma\"] = df_kline30r[\"trend_low\"] + df_kline30r[\"trend_high\"]\n",
    "\n",
    "df_kline30r.replace({'trend_ma': {2: 1, -2: -1}}, inplace=True)\n",
    "\n",
    "df_kline30r"
   ]
  },
  {
   "cell_type": "markdown",
   "metadata": {},
   "source": [
    "计算 Average True Range，可以更改 atr_span"
   ]
  },
  {
   "cell_type": "code",
   "execution_count": null,
   "metadata": {
    "execution": {
     "iopub.execute_input": "2021-03-10T07:57:13.523849Z",
     "iopub.status.busy": "2021-03-10T07:57:13.523557Z",
     "iopub.status.idle": "2021-03-10T07:57:13.537396Z",
     "shell.execute_reply": "2021-03-10T07:57:13.536744Z",
     "shell.execute_reply.started": "2021-03-10T07:57:13.523817Z"
    }
   },
   "outputs": [],
   "source": [
    "atr_span = 10\n",
    "def calculate_average_true_range(df, atr_span):\n",
    "    df['TR1'] = abs(df['high'] - df['low'])\n",
    "    df['TR2'] = abs(df['high'] - df['close'].shift())\n",
    "    df['TR3'] = abs(df['low'] - df['close'].shift())\n",
    "    df['true_range'] = df[['TR1', 'TR2', 'TR3']].max(axis=1)\n",
    "    df['atr'] = df['true_range'].ewm(span = atr_span).mean()\n",
    "    \n",
    "    df_kline30r.drop(columns=['TR1', 'TR2', 'TR3'], inplace = True)\n",
    "    \n",
    "    return df\n",
    "\n",
    "df_kline30r = calculate_average_true_range(df_kline30r, 10)"
   ]
  },
  {
   "cell_type": "markdown",
   "metadata": {},
   "source": [
    "通过 ATR 判断趋势 仅当高线和低线的均线变化幅度均超过 ATR * M 时判断趋势存在  \n",
    "可以调整 M 的取值"
   ]
  },
  {
   "cell_type": "code",
   "execution_count": null,
   "metadata": {
    "execution": {
     "iopub.execute_input": "2021-03-10T07:57:13.538788Z",
     "iopub.status.busy": "2021-03-10T07:57:13.538457Z",
     "iopub.status.idle": "2021-03-10T07:57:13.579997Z",
     "shell.execute_reply": "2021-03-10T07:57:13.579216Z",
     "shell.execute_reply.started": "2021-03-10T07:57:13.538756Z"
    }
   },
   "outputs": [],
   "source": [
    "atr_m = 0.1\n",
    "df_kline30r[\"trend_atr_up\"] = ((df_kline30r[\"slope_high\"] > df_kline30r[\"atr\"] * atr_m) & \n",
    "                               (df_kline30r[\"slope_low\"] > df_kline30r[\"atr\"] * atr_m) & \n",
    "                              (df_kline30r[\"slope_close\"] > df_kline30r[\"atr\"] * atr_m) )\n",
    "df_kline30r[\"trend_atr_down\"] = ((df_kline30r[\"slope_high\"] < df_kline30r[\"atr\"] * -atr_m) & \n",
    "                               (df_kline30r[\"slope_low\"] < df_kline30r[\"atr\"] * -atr_m) & \n",
    "                                (df_kline30r[\"slope_close\"] < df_kline30r[\"atr\"] * atr_m))\n",
    "\n",
    "df_kline30r.replace({'trend_atr_up': {True: 1, False: 0}}, inplace=True)\n",
    "df_kline30r.replace({'trend_atr_down': {True: -1, False: 0}}, inplace=True)\n",
    "\n",
    "df_kline30r[\"trend_atr\"] = df_kline30r[\"trend_atr_up\"] + df_kline30r[\"trend_atr_down\"]\n",
    "df_kline30r[\"trend\"] = df_kline30r[\"trend_atr\"] + df_kline30r[\"trend_ma\"]\n",
    "df_kline30r.replace({'trend': {2: 1, 1: 0, -1: 0, -2: -1}}, inplace=True)\n",
    "\n",
    "df_kline30r[\"trend\"] = (df_kline30r[\"trend\"] * 2 + df_kline30r[\"trend\"].shift()) / 3\n",
    "df_kline30r['trend'] = df_kline30r['trend'].fillna(0)\n",
    "df_kline30r[\"trend\"] = df_kline30r[\"trend\"].round()\n",
    "\n",
    "df_kline30r.iloc[0:20, ]"
   ]
  },
  {
   "cell_type": "markdown",
   "metadata": {},
   "source": [
    "在30分钟K线上增加 Trend"
   ]
  },
  {
   "cell_type": "code",
   "execution_count": null,
   "metadata": {
    "execution": {
     "iopub.execute_input": "2021-03-10T07:57:13.581229Z",
     "iopub.status.busy": "2021-03-10T07:57:13.581049Z",
     "iopub.status.idle": "2021-03-10T07:57:13.586283Z",
     "shell.execute_reply": "2021-03-10T07:57:13.585564Z",
     "shell.execute_reply.started": "2021-03-10T07:57:13.581206Z"
    }
   },
   "outputs": [],
   "source": [
    "# Inverse here because we inversed before\n",
    "df_kline30[\"high_ma5\"] = df_kline30r['hma_high'].values[::-1]\n",
    "df_kline30[\"low_ma5\"] = df_kline30r['hma_low'].values[::-1]\n",
    "df_kline30[\"trend5\"] = df_kline30r['trend'].values[::-1]\n",
    "\n",
    "# df_kline30.plot_k(plot_ma=True, ma=5)"
   ]
  },
  {
   "cell_type": "code",
   "execution_count": null,
   "metadata": {
    "execution": {
     "iopub.execute_input": "2021-03-10T07:57:13.587366Z",
     "iopub.status.busy": "2021-03-10T07:57:13.587105Z",
     "iopub.status.idle": "2021-03-10T07:57:13.605226Z",
     "shell.execute_reply": "2021-03-10T07:57:13.604707Z",
     "shell.execute_reply.started": "2021-03-10T07:57:13.587341Z"
    }
   },
   "outputs": [],
   "source": [
    "df_kline30"
   ]
  },
  {
   "cell_type": "code",
   "execution_count": null,
   "metadata": {
    "execution": {
     "iopub.execute_input": "2021-03-10T07:57:13.606218Z",
     "iopub.status.busy": "2021-03-10T07:57:13.606046Z",
     "iopub.status.idle": "2021-03-10T07:57:13.628666Z",
     "shell.execute_reply": "2021-03-10T07:57:13.628064Z",
     "shell.execute_reply.started": "2021-03-10T07:57:13.606197Z"
    }
   },
   "outputs": [],
   "source": [
    "df_kline30['date'] = df_kline30.end.dt.date.astype(str)\n",
    "df_kline30['start_time'] = df_kline30.start.dt.time.astype(str)\n",
    "df_kline30['end_time'] = df_kline30.end.dt.time.astype(str)"
   ]
  },
  {
   "cell_type": "code",
   "execution_count": null,
   "metadata": {
    "execution": {
     "iopub.execute_input": "2021-03-10T07:57:13.630029Z",
     "iopub.status.busy": "2021-03-10T07:57:13.629847Z",
     "iopub.status.idle": "2021-03-10T07:57:13.647739Z",
     "shell.execute_reply": "2021-03-10T07:57:13.646958Z",
     "shell.execute_reply.started": "2021-03-10T07:57:13.630007Z"
    }
   },
   "outputs": [],
   "source": [
    "df_kline30.head(10)"
   ]
  },
  {
   "cell_type": "code",
   "execution_count": null,
   "metadata": {
    "execution": {
     "iopub.execute_input": "2021-03-10T07:57:13.648988Z",
     "iopub.status.busy": "2021-03-10T07:57:13.648714Z",
     "iopub.status.idle": "2021-03-10T07:57:13.655522Z",
     "shell.execute_reply": "2021-03-10T07:57:13.654883Z",
     "shell.execute_reply.started": "2021-03-10T07:57:13.648962Z"
    }
   },
   "outputs": [],
   "source": [
    "daily_close = df_kline30[df_kline30.end_time=='15:00:00']\n",
    "daily_open = df_kline30[df_kline30.start_time=='09:30:00']"
   ]
  },
  {
   "cell_type": "code",
   "execution_count": null,
   "metadata": {
    "execution": {
     "iopub.execute_input": "2021-03-10T07:57:13.656651Z",
     "iopub.status.busy": "2021-03-10T07:57:13.656370Z",
     "iopub.status.idle": "2021-03-10T07:57:13.660761Z",
     "shell.execute_reply": "2021-03-10T07:57:13.660095Z",
     "shell.execute_reply.started": "2021-03-10T07:57:13.656628Z"
    }
   },
   "outputs": [],
   "source": [
    "daily_close['next_day_open'] = daily_open.shift(1).open.tolist()"
   ]
  },
  {
   "cell_type": "code",
   "execution_count": null,
   "metadata": {
    "execution": {
     "iopub.execute_input": "2021-03-10T07:57:13.662032Z",
     "iopub.status.busy": "2021-03-10T07:57:13.661761Z",
     "iopub.status.idle": "2021-03-10T07:57:13.667821Z",
     "shell.execute_reply": "2021-03-10T07:57:13.667255Z",
     "shell.execute_reply.started": "2021-03-10T07:57:13.662004Z"
    }
   },
   "outputs": [],
   "source": [
    "daily_close = daily_close.dropna()"
   ]
  },
  {
   "cell_type": "code",
   "execution_count": null,
   "metadata": {
    "execution": {
     "iopub.execute_input": "2021-03-10T07:57:13.669006Z",
     "iopub.status.busy": "2021-03-10T07:57:13.668706Z",
     "iopub.status.idle": "2021-03-10T07:57:13.672874Z",
     "shell.execute_reply": "2021-03-10T07:57:13.672218Z",
     "shell.execute_reply.started": "2021-03-10T07:57:13.668975Z"
    }
   },
   "outputs": [],
   "source": [
    "daily_close['night_ret'] = (daily_close.next_day_open - daily_close.close)"
   ]
  },
  {
   "cell_type": "code",
   "execution_count": null,
   "metadata": {
    "execution": {
     "iopub.execute_input": "2021-03-10T07:57:13.674105Z",
     "iopub.status.busy": "2021-03-10T07:57:13.673927Z",
     "iopub.status.idle": "2021-03-10T07:57:13.681193Z",
     "shell.execute_reply": "2021-03-10T07:57:13.680563Z",
     "shell.execute_reply.started": "2021-03-10T07:57:13.674084Z"
    }
   },
   "outputs": [],
   "source": [
    "daily_close['night_ret'].describe()"
   ]
  },
  {
   "cell_type": "code",
   "execution_count": null,
   "metadata": {
    "execution": {
     "iopub.execute_input": "2021-03-10T07:57:13.682421Z",
     "iopub.status.busy": "2021-03-10T07:57:13.682236Z",
     "iopub.status.idle": "2021-03-10T07:57:13.689864Z",
     "shell.execute_reply": "2021-03-10T07:57:13.689252Z",
     "shell.execute_reply.started": "2021-03-10T07:57:13.682398Z"
    }
   },
   "outputs": [],
   "source": [
    "daily_close[daily_close.trend5==1]['night_ret'].describe()"
   ]
  },
  {
   "cell_type": "code",
   "execution_count": null,
   "metadata": {
    "execution": {
     "iopub.execute_input": "2021-03-10T07:57:13.691089Z",
     "iopub.status.busy": "2021-03-10T07:57:13.690801Z",
     "iopub.status.idle": "2021-03-10T07:57:13.743548Z",
     "shell.execute_reply": "2021-03-10T07:57:13.742770Z",
     "shell.execute_reply.started": "2021-03-10T07:57:13.691065Z"
    }
   },
   "outputs": [],
   "source": [
    "daily_close[daily_close.trend5==0]['night_ret'].describe()"
   ]
  },
  {
   "cell_type": "code",
   "execution_count": null,
   "metadata": {
    "execution": {
     "iopub.execute_input": "2021-03-10T07:57:13.745140Z",
     "iopub.status.busy": "2021-03-10T07:57:13.744926Z",
     "iopub.status.idle": "2021-03-10T07:57:13.762625Z",
     "shell.execute_reply": "2021-03-10T07:57:13.762006Z",
     "shell.execute_reply.started": "2021-03-10T07:57:13.745113Z"
    }
   },
   "outputs": [],
   "source": [
    "daily_close[daily_close.trend5==-1]['night_ret'].describe()"
   ]
  },
  {
   "cell_type": "code",
   "execution_count": null,
   "metadata": {},
   "outputs": [],
   "source": []
  },
  {
   "cell_type": "code",
   "execution_count": null,
   "metadata": {},
   "outputs": [],
   "source": []
  }
 ],
 "metadata": {
  "kernelspec": {
   "display_name": "Python 3",
   "language": "python",
   "name": "python3"
  },
  "language_info": {
   "codemirror_mode": {
    "name": "ipython",
    "version": 3
   },
   "file_extension": ".py",
   "mimetype": "text/x-python",
   "name": "python",
   "nbconvert_exporter": "python",
   "pygments_lexer": "ipython3",
   "version": "3.8.5"
  }
 },
 "nbformat": 4,
 "nbformat_minor": 4
}
