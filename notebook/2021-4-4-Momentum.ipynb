{
 "cells": [
  {
   "cell_type": "code",
   "execution_count": 1,
   "metadata": {},
   "outputs": [],
   "source": [
    "import os\n",
    "import math\n",
    "import pandas as pd\n",
    "import numpy as np\n",
    "import matplotlib.pyplot as plt\n",
    "import matplotlib.pylab as pylab\n",
    "import seaborn as sns\n",
    "from math import sqrt\n",
    "from sklearn.metrics import confusion_matrix\n",
    "import statsmodels.api as sm\n",
    "import glob\n",
    "\n",
    "sns.set_style('white')"
   ]
  },
  {
   "cell_type": "code",
   "execution_count": 2,
   "metadata": {
    "scrolled": true
   },
   "outputs": [
    {
     "data": {
      "text/plain": [
       "['../data/2019/jmm.csv',\n",
       " '../data/2019/jm.csv',\n",
       " '../data/2019/egm.csv',\n",
       " '../data/2019/lm.csv',\n",
       " '../data/2019/cum.csv',\n",
       " '../data/2019/hcm.csv',\n",
       " '../data/2019/rbm.csv',\n",
       " '../data/2019/smm.csv',\n",
       " '../data/2019/im.csv',\n",
       " '../data/2019/ppm.csv',\n",
       " '../data/2019/alm.csv',\n",
       " '../data/2019/nim.csv',\n",
       " '../data/2019/cfm.csv',\n",
       " '../data/2019/tam.csv',\n",
       " '../data/2019/pbm.csv',\n",
       " '../data/2019/znm.csv',\n",
       " '../data/2019/mam.csv',\n",
       " '../data/2019/ebm.csv',\n",
       " '../data/2019/agm.csv',\n",
       " '../data/2019/srm.csv',\n",
       " '../data/2019/vm.csv',\n",
       " '../data/2019/snm.csv',\n",
       " '../data/2019/oim.csv',\n",
       " '../data/2019/rum.csv',\n",
       " '../data/2019/bum.csv']"
      ]
     },
     "execution_count": 2,
     "metadata": {},
     "output_type": "execute_result"
    }
   ],
   "source": [
    "filename_2019 = glob.glob('../data/2019/*.csv')\n",
    "filename_2019"
   ]
  },
  {
   "cell_type": "code",
   "execution_count": 3,
   "metadata": {},
   "outputs": [
    {
     "data": {
      "text/html": [
       "<div>\n",
       "<style scoped>\n",
       "    .dataframe tbody tr th:only-of-type {\n",
       "        vertical-align: middle;\n",
       "    }\n",
       "\n",
       "    .dataframe tbody tr th {\n",
       "        vertical-align: top;\n",
       "    }\n",
       "\n",
       "    .dataframe thead th {\n",
       "        text-align: right;\n",
       "    }\n",
       "</style>\n",
       "<table border=\"1\" class=\"dataframe\">\n",
       "  <thead>\n",
       "    <tr style=\"text-align: right;\">\n",
       "      <th></th>\n",
       "      <th>type</th>\n",
       "      <th>code</th>\n",
       "      <th>time</th>\n",
       "      <th>open</th>\n",
       "      <th>high</th>\n",
       "      <th>low</th>\n",
       "      <th>close</th>\n",
       "      <th>volume</th>\n",
       "      <th>turnover</th>\n",
       "      <th>open interest</th>\n",
       "    </tr>\n",
       "  </thead>\n",
       "  <tbody>\n",
       "    <tr>\n",
       "      <th>0</th>\n",
       "      <td>DC</td>\n",
       "      <td>jm1905</td>\n",
       "      <td>2019-01-02 09:01:00</td>\n",
       "      <td>1171.0</td>\n",
       "      <td>1176.0</td>\n",
       "      <td>1169.0</td>\n",
       "      <td>1172.5</td>\n",
       "      <td>4228.0</td>\n",
       "      <td>297235260.0</td>\n",
       "      <td>212034</td>\n",
       "    </tr>\n",
       "    <tr>\n",
       "      <th>1</th>\n",
       "      <td>DC</td>\n",
       "      <td>jm1905</td>\n",
       "      <td>2019-01-02 09:02:00</td>\n",
       "      <td>1172.5</td>\n",
       "      <td>1176.5</td>\n",
       "      <td>1172.5</td>\n",
       "      <td>1174.0</td>\n",
       "      <td>1828.0</td>\n",
       "      <td>128881500.0</td>\n",
       "      <td>211456</td>\n",
       "    </tr>\n",
       "    <tr>\n",
       "      <th>2</th>\n",
       "      <td>DC</td>\n",
       "      <td>jm1905</td>\n",
       "      <td>2019-01-02 09:03:00</td>\n",
       "      <td>1174.0</td>\n",
       "      <td>1176.5</td>\n",
       "      <td>1174.0</td>\n",
       "      <td>1175.5</td>\n",
       "      <td>1482.0</td>\n",
       "      <td>104521260.0</td>\n",
       "      <td>211368</td>\n",
       "    </tr>\n",
       "    <tr>\n",
       "      <th>3</th>\n",
       "      <td>DC</td>\n",
       "      <td>jm1905</td>\n",
       "      <td>2019-01-02 09:04:00</td>\n",
       "      <td>1175.5</td>\n",
       "      <td>1176.0</td>\n",
       "      <td>1173.0</td>\n",
       "      <td>1174.0</td>\n",
       "      <td>850.0</td>\n",
       "      <td>59894700.0</td>\n",
       "      <td>211380</td>\n",
       "    </tr>\n",
       "    <tr>\n",
       "      <th>4</th>\n",
       "      <td>DC</td>\n",
       "      <td>jm1905</td>\n",
       "      <td>2019-01-02 09:05:00</td>\n",
       "      <td>1174.0</td>\n",
       "      <td>1175.0</td>\n",
       "      <td>1174.0</td>\n",
       "      <td>1174.0</td>\n",
       "      <td>590.0</td>\n",
       "      <td>41572980.0</td>\n",
       "      <td>211252</td>\n",
       "    </tr>\n",
       "    <tr>\n",
       "      <th>...</th>\n",
       "      <td>...</td>\n",
       "      <td>...</td>\n",
       "      <td>...</td>\n",
       "      <td>...</td>\n",
       "      <td>...</td>\n",
       "      <td>...</td>\n",
       "      <td>...</td>\n",
       "      <td>...</td>\n",
       "      <td>...</td>\n",
       "      <td>...</td>\n",
       "    </tr>\n",
       "    <tr>\n",
       "      <th>85015</th>\n",
       "      <td>DC</td>\n",
       "      <td>jm2005</td>\n",
       "      <td>2019-12-31 14:56:00</td>\n",
       "      <td>1163.5</td>\n",
       "      <td>1165.5</td>\n",
       "      <td>1162.5</td>\n",
       "      <td>1165.5</td>\n",
       "      <td>1746.0</td>\n",
       "      <td>121952160.0</td>\n",
       "      <td>155608</td>\n",
       "    </tr>\n",
       "    <tr>\n",
       "      <th>85016</th>\n",
       "      <td>DC</td>\n",
       "      <td>jm2005</td>\n",
       "      <td>2019-12-31 14:57:00</td>\n",
       "      <td>1165.0</td>\n",
       "      <td>1165.5</td>\n",
       "      <td>1164.5</td>\n",
       "      <td>1165.5</td>\n",
       "      <td>614.0</td>\n",
       "      <td>42924960.0</td>\n",
       "      <td>155662</td>\n",
       "    </tr>\n",
       "    <tr>\n",
       "      <th>85017</th>\n",
       "      <td>DC</td>\n",
       "      <td>jm2005</td>\n",
       "      <td>2019-12-31 14:58:00</td>\n",
       "      <td>1165.0</td>\n",
       "      <td>1166.0</td>\n",
       "      <td>1165.0</td>\n",
       "      <td>1165.0</td>\n",
       "      <td>630.0</td>\n",
       "      <td>44048940.0</td>\n",
       "      <td>155544</td>\n",
       "    </tr>\n",
       "    <tr>\n",
       "      <th>85018</th>\n",
       "      <td>DC</td>\n",
       "      <td>jm2005</td>\n",
       "      <td>2019-12-31 14:59:00</td>\n",
       "      <td>1165.5</td>\n",
       "      <td>1166.0</td>\n",
       "      <td>1165.0</td>\n",
       "      <td>1165.5</td>\n",
       "      <td>538.0</td>\n",
       "      <td>37614480.0</td>\n",
       "      <td>155648</td>\n",
       "    </tr>\n",
       "    <tr>\n",
       "      <th>85019</th>\n",
       "      <td>DC</td>\n",
       "      <td>jm2005</td>\n",
       "      <td>2019-12-31 15:00:00</td>\n",
       "      <td>1165.0</td>\n",
       "      <td>1166.5</td>\n",
       "      <td>1164.0</td>\n",
       "      <td>1164.5</td>\n",
       "      <td>1366.0</td>\n",
       "      <td>95503440.0</td>\n",
       "      <td>155610</td>\n",
       "    </tr>\n",
       "  </tbody>\n",
       "</table>\n",
       "<p>85020 rows × 10 columns</p>\n",
       "</div>"
      ],
      "text/plain": [
       "      type    code                time    open    high     low   close  \\\n",
       "0       DC  jm1905 2019-01-02 09:01:00  1171.0  1176.0  1169.0  1172.5   \n",
       "1       DC  jm1905 2019-01-02 09:02:00  1172.5  1176.5  1172.5  1174.0   \n",
       "2       DC  jm1905 2019-01-02 09:03:00  1174.0  1176.5  1174.0  1175.5   \n",
       "3       DC  jm1905 2019-01-02 09:04:00  1175.5  1176.0  1173.0  1174.0   \n",
       "4       DC  jm1905 2019-01-02 09:05:00  1174.0  1175.0  1174.0  1174.0   \n",
       "...    ...     ...                 ...     ...     ...     ...     ...   \n",
       "85015   DC  jm2005 2019-12-31 14:56:00  1163.5  1165.5  1162.5  1165.5   \n",
       "85016   DC  jm2005 2019-12-31 14:57:00  1165.0  1165.5  1164.5  1165.5   \n",
       "85017   DC  jm2005 2019-12-31 14:58:00  1165.0  1166.0  1165.0  1165.0   \n",
       "85018   DC  jm2005 2019-12-31 14:59:00  1165.5  1166.0  1165.0  1165.5   \n",
       "85019   DC  jm2005 2019-12-31 15:00:00  1165.0  1166.5  1164.0  1164.5   \n",
       "\n",
       "       volume     turnover  open interest  \n",
       "0      4228.0  297235260.0         212034  \n",
       "1      1828.0  128881500.0         211456  \n",
       "2      1482.0  104521260.0         211368  \n",
       "3       850.0   59894700.0         211380  \n",
       "4       590.0   41572980.0         211252  \n",
       "...       ...          ...            ...  \n",
       "85015  1746.0  121952160.0         155608  \n",
       "85016   614.0   42924960.0         155662  \n",
       "85017   630.0   44048940.0         155544  \n",
       "85018   538.0   37614480.0         155648  \n",
       "85019  1366.0   95503440.0         155610  \n",
       "\n",
       "[85020 rows x 10 columns]"
      ]
     },
     "execution_count": 3,
     "metadata": {},
     "output_type": "execute_result"
    }
   ],
   "source": [
    "df = pd.read_csv(filename_2019[0], index_col=0, encoding='gbk')\n",
    "df.columns = ['code', 'time', 'open', 'high', 'low', 'close', 'volume', 'turnover', 'open interest']\n",
    "df.rename_axis(\"type\", axis='index', inplace=True)\n",
    "df['time'] = pd.to_datetime(df['time'])\n",
    "\n",
    "df.reset_index(inplace=True)\n",
    "df"
   ]
  },
  {
   "cell_type": "code",
   "execution_count": 4,
   "metadata": {},
   "outputs": [
    {
     "data": {
      "image/png": "[encoded data removed]",
      "text/plain": [
       "<Figure size 864x288 with 1 Axes>"
      ]
     },
     "metadata": {},
     "output_type": "display_data"
    }
   ],
   "source": [
    "df[['close']].plot(grid=False, figsize=(12,4))\n",
    "sns.despine()"
   ]
  },
  {
   "cell_type": "code",
   "execution_count": 5,
   "metadata": {},
   "outputs": [],
   "source": [
    "short_period = [2, 4, 8, 16, 32, 64]\n",
    "long_period = [8, 16, 32, 64, 128, 256]\n",
    "\n",
    "df['short_ewm'] = df['close'].ewm(span=short_period[2]).mean()\n",
    "df['long_ewm'] = df['close'].ewm(span=long_period[2]).mean()"
   ]
  },
  {
   "cell_type": "code",
   "execution_count": 6,
   "metadata": {},
   "outputs": [],
   "source": [
    "def calculate_hull_moving_average(df, period):\n",
    "\n",
    "    df['window_t_ewm'] = df['close'].ewm(span=period).mean()\n",
    "    df['window_half_ewm'] = df['close'].ewm(span=period/2).mean()\n",
    "    df['diff']=df['window_half_ewm'] * 2 - df['window_t_ewm']\n",
    "    \n",
    "    df[f'hma{period}']=df['diff'].ewm(span=int(math.sqrt(period))).mean()\n",
    "    \n",
    "    irrelevant_col = ['window_t_ewm', 'window_half_ewm', 'diff']\n",
    "    df.drop(columns=irrelevant_col, inplace = True)\n",
    "    \n",
    "calculate_hull_moving_average(df, short_period[2])\n",
    "calculate_hull_moving_average(df, long_period[2])"
   ]
  },
  {
   "cell_type": "code",
   "execution_count": 7,
   "metadata": {},
   "outputs": [
    {
     "data": {
      "image/png": "[encoded data removed]",
      "text/plain": [
       "<Figure size 864x288 with 1 Axes>"
      ]
     },
     "metadata": {},
     "output_type": "display_data"
    }
   ],
   "source": [
    "df['short_long_diff'] = df[f'hma{short_period[2]}'] - df[f'hma{long_period[2]}']\n",
    "\n",
    "short_long_diff_std = df['short_long_diff'].std()\n",
    "\n",
    "df['momentum'] = df['short_long_diff'] / short_long_diff_std\n",
    "\n",
    "df['momentum'].plot(grid=False, figsize=(12,4))\n",
    "sns.despine()"
   ]
  },
  {
   "cell_type": "code",
   "execution_count": 8,
   "metadata": {},
   "outputs": [],
   "source": [
    "threshold = [0, 0.1, 0.25, 0.5, 0.75, 1, 2]"
   ]
  },
  {
   "cell_type": "code",
   "execution_count": 9,
   "metadata": {},
   "outputs": [],
   "source": [
    "df['position'] = df['momentum'] > threshold[0]"
   ]
  },
  {
   "cell_type": "code",
   "execution_count": 10,
   "metadata": {},
   "outputs": [
    {
     "data": {
      "text/plain": [
       "1    42791\n",
       "0    42229\n",
       "Name: position, dtype: int64"
      ]
     },
     "execution_count": 10,
     "metadata": {},
     "output_type": "execute_result"
    }
   ],
   "source": [
    "df['position'].replace({False: 0, True: 1}, inplace=True)\n",
    "df['position'].value_counts()"
   ]
  },
  {
   "cell_type": "code",
   "execution_count": 11,
   "metadata": {},
   "outputs": [],
   "source": [
    "df['returns'] = np.log(df['close']/df['close'].shift(1)).fillna(0)\n",
    "# Last Minute's Decision and the return\n",
    "df['strategy'] = df['position'].shift(1).fillna(0) * df['returns']"
   ]
  },
  {
   "cell_type": "code",
   "execution_count": 12,
   "metadata": {},
   "outputs": [
    {
     "data": {
      "text/plain": [
       "<AxesSubplot:>"
      ]
     },
     "execution_count": 12,
     "metadata": {},
     "output_type": "execute_result"
    },
    {
     "data": {
      "image/png": "[encoded data removed]",
      "text/plain": [
       "<Figure size 864x432 with 1 Axes>"
      ]
     },
     "metadata": {},
     "output_type": "display_data"
    }
   ],
   "source": [
    "df[['returns','strategy']].cumsum().apply(np.exp).plot(figsize=(12, 6))"
   ]
  },
  {
   "cell_type": "code",
   "execution_count": 13,
   "metadata": {},
   "outputs": [],
   "source": [
    "sum_logreturn = df[df['position'] == 1]['strategy'].sum()"
   ]
  },
  {
   "cell_type": "code",
   "execution_count": 14,
   "metadata": {},
   "outputs": [
    {
     "data": {
      "text/plain": [
       "1.7313745592585534"
      ]
     },
     "execution_count": 14,
     "metadata": {},
     "output_type": "execute_result"
    }
   ],
   "source": [
    "sum_return = np.exp(sum_logreturn) - 1\n",
    "sum_return"
   ]
  },
  {
   "cell_type": "code",
   "execution_count": 15,
   "metadata": {},
   "outputs": [],
   "source": [
    "sharpe = (np.exp(df[df['position'] == 1]['strategy']).mean() - 1) / np.exp(df[df['position'] == 1]['strategy']).std() * sqrt(252)"
   ]
  },
  {
   "cell_type": "code",
   "execution_count": 16,
   "metadata": {},
   "outputs": [
    {
     "data": {
      "text/plain": [
       "0.5047016308348137"
      ]
     },
     "execution_count": 16,
     "metadata": {},
     "output_type": "execute_result"
    }
   ],
   "source": [
    "sharpe"
   ]
  },
  {
   "cell_type": "code",
   "execution_count": 17,
   "metadata": {},
   "outputs": [],
   "source": [
    "def calculate_momentum(data, short_period, long_period, hma=True):\n",
    "    if (hma):\n",
    "        calculate_hull_moving_average(data, short_period)\n",
    "        calculate_hull_moving_average(data, long_period)\n",
    "        data['short_long_diff'] = data[f'hma{short_period}'] - data[f'hma{long_period}']\n",
    "        short_long_diff_std = data['short_long_diff'].std()\n",
    "        data['momentum'] = data['short_long_diff'] / short_long_diff_std\n",
    "        \n",
    "        used_col = ['short_long_diff', f'hma{short_period}', f'hma{long_period}']\n",
    "        data.drop(columns=used_col, inplace = True)\n",
    "        \n",
    "    else:\n",
    "        data['short_ewm'] = data['close'].ewm(span=short_period).mean()\n",
    "        data['long_ewm'] = data['close'].ewm(span=long_period).mean()\n",
    "        data['short_long_diff'] = data['short_ewm'] - data['long_ewm']\n",
    "        short_long_diff_std = data['short_long_diff'].std()\n",
    "        data['momentum'] = data['short_long_diff'] / short_long_diff_std\n",
    "        \n",
    "        used_col = ['short_long_diff', data['short_ewm'], data['short_ewm']]\n",
    "        data.drop(columns=used_col, inplace = True)"
   ]
  },
  {
   "cell_type": "code",
   "execution_count": 18,
   "metadata": {},
   "outputs": [],
   "source": [
    "def calculate_return_from_momentum(data, threshold=1):\n",
    "    data['position'] = data['momentum'] > threshold\n",
    "    data['position'].replace({False: 0, True: 1}, inplace=True)\n",
    "    \n",
    "    # Last Minute's Decision and the return\n",
    "    \n",
    "    data['returns'] = np.log(data['close']/data['close'].shift(1)).fillna(0)\n",
    "    data['strategy'] = data['position'].shift(1) * data['returns']\n",
    "    \n",
    "    # Calculate sum return\n",
    "    sum_logreturn = data['strategy'].sum()\n",
    "    sum_return = np.exp(sum_logreturn) - 1\n",
    "    \n",
    "    # Calculate Sharpe\n",
    "    sharpe = (np.exp(data['strategy']).mean() - 1) / np.exp(data['strategy']).std() * sqrt(252)\n",
    "    \n",
    "    return sum_return, sharpe"
   ]
  },
  {
   "cell_type": "markdown",
   "metadata": {},
   "source": [
    "焦煤主力（JMM），表格Index为均线Window长度（short-long），Column为建仓Threshold"
   ]
  },
  {
   "cell_type": "code",
   "execution_count": 19,
   "metadata": {},
   "outputs": [],
   "source": [
    "data = pd.read_csv(filename_2019[0], index_col=0, encoding='gbk')\n",
    "# data = pd.read_csv('../data/2019/agm.csv', index_col=0, encoding='gbk')\n",
    "\n",
    "data.columns = ['code', 'time', 'open', 'high', 'low', 'close', 'volume', 'turnover', 'open interest']\n",
    "data.rename_axis(\"type\", axis='index', inplace=True)\n",
    "data['time'] = pd.to_datetime(data['time'])\n",
    "\n",
    "data.reset_index(inplace=True)"
   ]
  },
  {
   "cell_type": "code",
   "execution_count": 20,
   "metadata": {},
   "outputs": [],
   "source": [
    "returns = []\n",
    "sharpes = []\n",
    "for i in range(len(short_period)):\n",
    "    calculate_momentum(data, short_period[i], long_period[i])\n",
    "    current_window_returns = []\n",
    "    current_window_sharpes = []\n",
    "    for j in range(len(threshold)):\n",
    "        sum_return, sharpe = calculate_return_from_momentum(data, threshold[j])\n",
    "        current_window_returns.append(sum_return)\n",
    "        current_window_sharpes.append(sharpe)\n",
    "    returns.append(current_window_returns)\n",
    "    sharpes.append(current_window_sharpes)"
   ]
  },
  {
   "cell_type": "code",
   "execution_count": 21,
   "metadata": {},
   "outputs": [
    {
     "name": "stdout",
     "output_type": "stream",
     "text": [
      "Sum Return\n"
     ]
    },
    {
     "data": {
      "text/html": [
       "<div>\n",
       "<style scoped>\n",
       "    .dataframe tbody tr th:only-of-type {\n",
       "        vertical-align: middle;\n",
       "    }\n",
       "\n",
       "    .dataframe tbody tr th {\n",
       "        vertical-align: top;\n",
       "    }\n",
       "\n",
       "    .dataframe thead th {\n",
       "        text-align: right;\n",
       "    }\n",
       "</style>\n",
       "<table border=\"1\" class=\"dataframe\">\n",
       "  <thead>\n",
       "    <tr style=\"text-align: right;\">\n",
       "      <th></th>\n",
       "      <th>0.00</th>\n",
       "      <th>0.10</th>\n",
       "      <th>0.25</th>\n",
       "      <th>0.50</th>\n",
       "      <th>0.75</th>\n",
       "      <th>1.00</th>\n",
       "      <th>2.00</th>\n",
       "    </tr>\n",
       "  </thead>\n",
       "  <tbody>\n",
       "    <tr>\n",
       "      <th>2-8</th>\n",
       "      <td>-0.929930</td>\n",
       "      <td>-0.928225</td>\n",
       "      <td>-0.907525</td>\n",
       "      <td>-0.831866</td>\n",
       "      <td>-0.723436</td>\n",
       "      <td>-0.625120</td>\n",
       "      <td>-0.247446</td>\n",
       "    </tr>\n",
       "    <tr>\n",
       "      <th>4-16</th>\n",
       "      <td>-0.821882</td>\n",
       "      <td>-0.807602</td>\n",
       "      <td>-0.795515</td>\n",
       "      <td>-0.737519</td>\n",
       "      <td>-0.654204</td>\n",
       "      <td>-0.574768</td>\n",
       "      <td>-0.244133</td>\n",
       "    </tr>\n",
       "    <tr>\n",
       "      <th>8-32</th>\n",
       "      <td>-0.696338</td>\n",
       "      <td>-0.721909</td>\n",
       "      <td>-0.689853</td>\n",
       "      <td>-0.621278</td>\n",
       "      <td>-0.551578</td>\n",
       "      <td>-0.471075</td>\n",
       "      <td>-0.135068</td>\n",
       "    </tr>\n",
       "    <tr>\n",
       "      <th>16-64</th>\n",
       "      <td>-0.480492</td>\n",
       "      <td>-0.487191</td>\n",
       "      <td>-0.433409</td>\n",
       "      <td>-0.309840</td>\n",
       "      <td>-0.222633</td>\n",
       "      <td>-0.278458</td>\n",
       "      <td>-0.075260</td>\n",
       "    </tr>\n",
       "    <tr>\n",
       "      <th>32-128</th>\n",
       "      <td>-0.183852</td>\n",
       "      <td>-0.174561</td>\n",
       "      <td>-0.246899</td>\n",
       "      <td>-0.068046</td>\n",
       "      <td>-0.080774</td>\n",
       "      <td>-0.022588</td>\n",
       "      <td>-0.071574</td>\n",
       "    </tr>\n",
       "    <tr>\n",
       "      <th>64-256</th>\n",
       "      <td>-0.084712</td>\n",
       "      <td>-0.167279</td>\n",
       "      <td>-0.150402</td>\n",
       "      <td>-0.153236</td>\n",
       "      <td>-0.141071</td>\n",
       "      <td>-0.108440</td>\n",
       "      <td>-0.051138</td>\n",
       "    </tr>\n",
       "  </tbody>\n",
       "</table>\n",
       "</div>"
      ],
      "text/plain": [
       "            0.00      0.10      0.25      0.50      0.75      1.00      2.00\n",
       "2-8    -0.929930 -0.928225 -0.907525 -0.831866 -0.723436 -0.625120 -0.247446\n",
       "4-16   -0.821882 -0.807602 -0.795515 -0.737519 -0.654204 -0.574768 -0.244133\n",
       "8-32   -0.696338 -0.721909 -0.689853 -0.621278 -0.551578 -0.471075 -0.135068\n",
       "16-64  -0.480492 -0.487191 -0.433409 -0.309840 -0.222633 -0.278458 -0.075260\n",
       "32-128 -0.183852 -0.174561 -0.246899 -0.068046 -0.080774 -0.022588 -0.071574\n",
       "64-256 -0.084712 -0.167279 -0.150402 -0.153236 -0.141071 -0.108440 -0.051138"
      ]
     },
     "execution_count": 21,
     "metadata": {},
     "output_type": "execute_result"
    }
   ],
   "source": [
    "# returns\n",
    "returns_df = pd.DataFrame.from_records(returns, index =['2-8','4-16','8-32','16-64', '32-128', '64-256'])\n",
    "returns_df.columns = threshold\n",
    "print('Sum Return')\n",
    "returns_df"
   ]
  },
  {
   "cell_type": "code",
   "execution_count": 22,
   "metadata": {},
   "outputs": [
    {
     "name": "stdout",
     "output_type": "stream",
     "text": [
      "Sharpe\n"
     ]
    },
    {
     "data": {
      "text/html": [
       "<div>\n",
       "<style scoped>\n",
       "    .dataframe tbody tr th:only-of-type {\n",
       "        vertical-align: middle;\n",
       "    }\n",
       "\n",
       "    .dataframe tbody tr th {\n",
       "        vertical-align: top;\n",
       "    }\n",
       "\n",
       "    .dataframe thead th {\n",
       "        text-align: right;\n",
       "    }\n",
       "</style>\n",
       "<table border=\"1\" class=\"dataframe\">\n",
       "  <thead>\n",
       "    <tr style=\"text-align: right;\">\n",
       "      <th></th>\n",
       "      <th>0.00</th>\n",
       "      <th>0.10</th>\n",
       "      <th>0.25</th>\n",
       "      <th>0.50</th>\n",
       "      <th>0.75</th>\n",
       "      <th>1.00</th>\n",
       "      <th>2.00</th>\n",
       "    </tr>\n",
       "  </thead>\n",
       "  <tbody>\n",
       "    <tr>\n",
       "      <th>2-8</th>\n",
       "      <td>-0.844447</td>\n",
       "      <td>-0.865631</td>\n",
       "      <td>-0.822679</td>\n",
       "      <td>-0.707703</td>\n",
       "      <td>-0.554926</td>\n",
       "      <td>-0.654148</td>\n",
       "      <td>-0.310672</td>\n",
       "    </tr>\n",
       "    <tr>\n",
       "      <th>4-16</th>\n",
       "      <td>-0.646140</td>\n",
       "      <td>-0.650968</td>\n",
       "      <td>-0.686513</td>\n",
       "      <td>-0.676724</td>\n",
       "      <td>-0.619739</td>\n",
       "      <td>-0.580376</td>\n",
       "      <td>-0.335684</td>\n",
       "    </tr>\n",
       "    <tr>\n",
       "      <th>8-32</th>\n",
       "      <td>-0.391843</td>\n",
       "      <td>-0.514163</td>\n",
       "      <td>-0.509401</td>\n",
       "      <td>-0.486844</td>\n",
       "      <td>-0.471889</td>\n",
       "      <td>-0.433017</td>\n",
       "      <td>-0.170657</td>\n",
       "    </tr>\n",
       "    <tr>\n",
       "      <th>16-64</th>\n",
       "      <td>-0.202526</td>\n",
       "      <td>-0.214126</td>\n",
       "      <td>-0.204685</td>\n",
       "      <td>-0.146221</td>\n",
       "      <td>-0.108467</td>\n",
       "      <td>-0.230520</td>\n",
       "      <td>-0.097945</td>\n",
       "    </tr>\n",
       "    <tr>\n",
       "      <th>32-128</th>\n",
       "      <td>-0.059101</td>\n",
       "      <td>-0.057763</td>\n",
       "      <td>-0.093729</td>\n",
       "      <td>-0.025041</td>\n",
       "      <td>-0.034449</td>\n",
       "      <td>-0.008162</td>\n",
       "      <td>-0.097589</td>\n",
       "    </tr>\n",
       "    <tr>\n",
       "      <th>64-256</th>\n",
       "      <td>-0.022829</td>\n",
       "      <td>-0.063210</td>\n",
       "      <td>-0.060854</td>\n",
       "      <td>-0.081825</td>\n",
       "      <td>-0.090309</td>\n",
       "      <td>-0.083008</td>\n",
       "      <td>-0.073138</td>\n",
       "    </tr>\n",
       "  </tbody>\n",
       "</table>\n",
       "</div>"
      ],
      "text/plain": [
       "            0.00      0.10      0.25      0.50      0.75      1.00      2.00\n",
       "2-8    -0.844447 -0.865631 -0.822679 -0.707703 -0.554926 -0.654148 -0.310672\n",
       "4-16   -0.646140 -0.650968 -0.686513 -0.676724 -0.619739 -0.580376 -0.335684\n",
       "8-32   -0.391843 -0.514163 -0.509401 -0.486844 -0.471889 -0.433017 -0.170657\n",
       "16-64  -0.202526 -0.214126 -0.204685 -0.146221 -0.108467 -0.230520 -0.097945\n",
       "32-128 -0.059101 -0.057763 -0.093729 -0.025041 -0.034449 -0.008162 -0.097589\n",
       "64-256 -0.022829 -0.063210 -0.060854 -0.081825 -0.090309 -0.083008 -0.073138"
      ]
     },
     "execution_count": 22,
     "metadata": {},
     "output_type": "execute_result"
    }
   ],
   "source": [
    "# sharpes\n",
    "sharpes_df = pd.DataFrame.from_records(sharpes, index =['2-8','4-16','8-32','16-64', '32-128', '64-256'])\n",
    "sharpes_df.columns = threshold\n",
    "print('Sharpe')\n",
    "sharpes_df"
   ]
  },
  {
   "cell_type": "code",
   "execution_count": null,
   "metadata": {},
   "outputs": [],
   "source": []
  }
 ],
 "metadata": {
  "kernelspec": {
   "display_name": "Python 3",
   "language": "python",
   "name": "python3"
  },
  "language_info": {
   "codemirror_mode": {
    "name": "ipython",
    "version": 3
   },
   "file_extension": ".py",
   "mimetype": "text/x-python",
   "name": "python",
   "nbconvert_exporter": "python",
   "pygments_lexer": "ipython3",
   "version": "3.8.5"
  }
 },
 "nbformat": 4,
 "nbformat_minor": 4
}
